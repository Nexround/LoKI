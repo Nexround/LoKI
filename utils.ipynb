{
 "cells": [
  {
   "cell_type": "markdown",
   "metadata": {},
   "source": [
    "# Create LoKI Model\n",
    "Before training, you should first convert the original model into a model using LoKI Linear.\n"
   ]
  },
  {
   "cell_type": "code",
   "execution_count": null,
   "metadata": {},
   "outputs": [],
   "source": [
    "from src.loki import create_loki_model\n",
    "\n",
    "from src.loki import LoKILlamaForCausalLM\n",
    "from src.loki import LoKILlamaConfig\n",
    "\n",
    "from src.loki import LoKIQwen2ForCausalLM\n",
    "from src.loki import LoKIQwen2Config\n",
    "\n",
    "# create_loki_model(\n",
    "#     loki_model_class=LoKILlamaForCausalLM,\n",
    "#     loki_config_cls=LoKILlamaConfig,\n",
    "#     target_pos_path=\"./kva_result/Llama-3.1-8B-Instruct/10.json\",\n",
    "#     save_dir=\"./models/loki\",\n",
    "#     model_name=\"meta-llama/Llama-3.1-8B-Instruct\",\n",
    "# )\n",
    "\n",
    "create_loki_model(\n",
    "    loki_model_class=LoKIQwen2ForCausalLM,\n",
    "    loki_config_cls=LoKIQwen2Config,\n",
    "    target_pos_path=\"./kva_result/Qwen2.5-0.5B-Instruct/10.json\",\n",
    "    save_dir=\"./models/loki\",\n",
    "    model_name= \"Qwen/Qwen2.5-0.5B-Instruct\"\n",
    ")\n"
   ]
  },
  {
   "cell_type": "markdown",
   "metadata": {},
   "source": [
    "# Check LoKI Model\n",
    "You can test the converted LoKI model here."
   ]
  },
  {
   "cell_type": "code",
   "execution_count": null,
   "metadata": {},
   "outputs": [],
   "source": [
    "from transformers import AutoModelForCausalLM, AutoTokenizer\n",
    "\n",
    "model_name = \"./models/loki\"\n",
    "\n",
    "model = AutoModelForCausalLM.from_pretrained(\n",
    "    model_name,\n",
    "    torch_dtype=\"auto\",\n",
    "    device_map=\"auto\",\n",
    "    trust_remote_code=True,\n",
    ")\n",
    "print(model)\n",
    "tokenizer = AutoTokenizer.from_pretrained(model_name)\n",
    "\n",
    "prompt = \"Give me a short introduction to large language model.\"\n",
    "messages = [\n",
    "    {\"role\": \"system\", \"content\": \"You are Qwen, created by Alibaba Cloud. You are a helpful assistant.\"},\n",
    "    {\"role\": \"user\", \"content\": prompt}\n",
    "]\n",
    "text = tokenizer.apply_chat_template(\n",
    "    messages,\n",
    "    tokenize=False,\n",
    "    add_generation_prompt=True\n",
    ")\n",
    "model_inputs = tokenizer([text], return_tensors=\"pt\").to(model.device)\n",
    "\n",
    "generated_ids = model.generate(\n",
    "    **model_inputs,\n",
    "    max_new_tokens=512\n",
    ")\n",
    "generated_ids = [\n",
    "    output_ids[len(input_ids):] for input_ids, output_ids in zip(model_inputs.input_ids, generated_ids)\n",
    "]\n",
    "\n",
    "response = tokenizer.batch_decode(generated_ids, skip_special_tokens=True)[0]\n",
    "print(response)"
   ]
  },
  {
   "cell_type": "markdown",
   "metadata": {},
   "source": [
    "# Convert LoKI model to original model\n",
    "After the training is completed, use the restore_roki_madel function to convert the LoKI model into a original model. In this way, you can naturally use general methods to call the trained model.\n"
   ]
  },
  {
   "cell_type": "code",
   "execution_count": null,
   "metadata": {},
   "outputs": [],
   "source": [
    "from src.loki import restore_loki_model\n",
    "\n",
    "restore_loki_model(\n",
    "    model_path=\"./models/loki\",\n",
    "    target_pos_path=\"./kva_result/Qwen2.5-0.5B-Instruct/10.json\",\n",
    "    output_path=\"./models/output\",\n",
    "    model_name=\"Qwen/Qwen2.5-0.5B-Instruct\",\n",
    ")"
   ]
  },
  {
   "cell_type": "markdown",
   "metadata": {},
   "source": [
    "# Merge LoRA adapter and convert the merged model to original model\n",
    "If LoRA is used for training, LoRA adapter needs to be merged into the LoKI model before conversion."
   ]
  },
  {
   "cell_type": "code",
   "execution_count": null,
   "metadata": {},
   "outputs": [],
   "source": [
    "import torch\n",
    "from transformers import AutoModelForCausalLM\n",
    "from peft import PeftModel\n",
    "\n",
    "base_model = AutoModelForCausalLM.from_pretrained(\"./models/loki\", torch_dtype=torch.bfloat16, trust_remote_code=True,)\n",
    "print(base_model)\n",
    "lora_model = PeftModel.from_pretrained(base_model, \"./models/lora_adapter\")\n",
    "merged_model = lora_model.merge_and_unload()\n",
    "merged_model.save_pretrained(\"./models/merged\")\n",
    "\n",
    "restore_loki_model(\n",
    "    model_path=\"\",\n",
    "    target_pos_path=\"./kva_result/Llama-3.1-8B-Instruct/10.json\",\n",
    "    output_path=\"./models/output\",\n",
    "    model_name=\"meta-llama/Llama-3.1-8B-Instruct\",\n",
    ")"
   ]
  },
  {
   "cell_type": "markdown",
   "metadata": {},
   "source": [
    "# Suppress specified node output\n",
    "The implementation code for the ablation section in the paper."
   ]
  },
  {
   "cell_type": "code",
   "execution_count": null,
   "metadata": {},
   "outputs": [],
   "source": [
    "from src.loki import set_zero_weights\n",
    "\n",
    "set_zero_weights(\n",
    "    target_pos_path=\"./kva_result/Llama-3.1-8B-Instruct/10.json\",\n",
    "    output_path=\"./models/suppressed\",\n",
    "    model_name=\"meta-llama/Llama-3.1-8B-Instruct\"\n",
    ")"
   ]
  }
 ],
 "metadata": {
  "kernelspec": {
   "display_name": "loki",
   "language": "python",
   "name": "python3"
  },
  "language_info": {
   "codemirror_mode": {
    "name": "ipython",
    "version": 3
   },
   "file_extension": ".py",
   "mimetype": "text/x-python",
   "name": "python",
   "nbconvert_exporter": "python",
   "pygments_lexer": "ipython3",
   "version": "3.10.16"
  }
 },
 "nbformat": 4,
 "nbformat_minor": 2
}
